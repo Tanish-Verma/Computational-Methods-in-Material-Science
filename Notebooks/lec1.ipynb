{
 "cells": [
  {
   "cell_type": "code",
   "execution_count": null,
   "id": "2a7f5a06",
   "metadata": {},
   "outputs": [
    {
     "name": "stdout",
     "output_type": "stream",
     "text": [
      "Forward Difference: 3.000266701747023e-06\n",
      "Backward Difference: -2.999822612537173e-06\n",
      "Central Difference: 2.220446049250313e-10\n"
     ]
    }
   ],
   "source": [
    "def forward_difference(f, x, delx=1e-6):\n",
    "    \"\"\"Numerical derivative using forward difference.\"\"\"\n",
    "    return (f(x + delx) - f(x)) / delx\n",
    "\n",
    "def backward_difference(f, x, delx=1e-6):\n",
    "    \"\"\"Numerical derivative using backward difference.\"\"\"\n",
    "    return (f(x) - f(x - delx)) / delx\n",
    "\n",
    "def central_difference(f, x, delx=1e-6):\n",
    "    \"\"\"Numerical derivative using central difference .\"\"\"\n",
    "    return (f(x + delx) - f(x - delx)) / (2 * delx)\n",
    "\n",
    "f = lambda x: x**3 - 3*x + 1\n",
    "\n",
    "y = forward_difference(f, 1)\n",
    "print(\"Forward Difference:\", y)\n",
    "z = backward_difference(f, 1)\n",
    "print(\"Backward Difference:\", z)\n",
    "w = central_difference(f, 1)\n",
    "print(\"Central Difference:\", w)"
   ]
  },
  {
   "cell_type": "code",
   "execution_count": 2,
   "id": "3b12f3c4",
   "metadata": {},
   "outputs": [
    {
     "name": "stdout",
     "output_type": "stream",
     "text": [
      "Area under the curve:  0.4166672500000001\n"
     ]
    }
   ],
   "source": [
    "import numpy as np\n",
    "\n",
    "def TrapezoidalMethod(f, x1, x2, delx=1e-3):\n",
    "    arr = np.arange(x1, x2 + delx, delx)\n",
    "    fx = f(arr)\n",
    "    area = (fx[0] + fx[-1]) / 2 + np.sum(fx[1:-1])\n",
    "    area *= delx\n",
    "    return area\n",
    "\n",
    "f = lambda x: 3*x**3 - x**2\n",
    "\n",
    "area = TrapezoidalMethod(f, 0, 1,0.001)\n",
    "print(\"Area under the curve: \", area)"
   ]
  },
  {
   "cell_type": "code",
   "execution_count": 3,
   "id": "cce9be0b",
   "metadata": {},
   "outputs": [
    {
     "name": "stdout",
     "output_type": "stream",
     "text": [
      "Area under the curve:  0.416666375\n"
     ]
    }
   ],
   "source": [
    "def MidpointMethod(f,x1,x2,delx =1e-3):\n",
    "    arr = np.arange(x1, x2 + delx, delx)\n",
    "    averages = np.array([(arr[i] + arr[i+1]) / 2 for i in range(len(arr) - 1)])\n",
    "    fx = f(averages)\n",
    "    area = np.sum(fx)\n",
    "    area*= delx\n",
    "    return area\n",
    "f = lambda x: 3*x**3 - x**2\n",
    "area = MidpointMethod(f,0,1,0.001)\n",
    "print(\"Area under the curve: \", area)"
   ]
  },
  {
   "cell_type": "code",
   "execution_count": 4,
   "id": "002bbfed",
   "metadata": {},
   "outputs": [
    {
     "name": "stdout",
     "output_type": "stream",
     "text": [
      "Area under the curve:  0.4166663749999999\n"
     ]
    }
   ],
   "source": [
    "def MidpointMethod(f, x1, x2, delx=1e-3):\n",
    "    arr = np.arange(x1, x2, delx)\n",
    "    midpoints = arr + delx / 2\n",
    "    fx = f(midpoints)\n",
    "    area = np.sum(fx) * delx\n",
    "    return area\n",
    "\n",
    "f = lambda x: 3*x**3 - x**2\n",
    "area = MidpointMethod(f, 0, 1, 0.001)\n",
    "print(\"Area under the curve: \", area)"
   ]
  },
  {
   "cell_type": "code",
   "execution_count": 27,
   "id": "3009ef5f",
   "metadata": {},
   "outputs": [
    {
     "name": "stdout",
     "output_type": "stream",
     "text": [
      "Help on built-in function sum in module builtins:\n",
      "\n",
      "sum(iterable, /, start=0)\n",
      "    Return the sum of a 'start' value (default: 0) plus an iterable of numbers\n",
      "\n",
      "    When the iterable is empty, return the start value.\n",
      "    This function is intended specifically for use with numeric values and may\n",
      "    reject non-numeric types.\n",
      "\n"
     ]
    }
   ],
   "source": [
    "help(sum)"
   ]
  }
 ],
 "metadata": {
  "kernelspec": {
   "display_name": "venv",
   "language": "python",
   "name": "python3"
  },
  "language_info": {
   "codemirror_mode": {
    "name": "ipython",
    "version": 3
   },
   "file_extension": ".py",
   "mimetype": "text/x-python",
   "name": "python",
   "nbconvert_exporter": "python",
   "pygments_lexer": "ipython3",
   "version": "3.12.4"
  }
 },
 "nbformat": 4,
 "nbformat_minor": 5
}
